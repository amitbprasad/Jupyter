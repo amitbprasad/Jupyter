x = 124
y = 2
print(x**y)
print(x%y)

name = input("what is your name")